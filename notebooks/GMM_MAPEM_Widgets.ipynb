{
 "cells": [
  {
   "cell_type": "markdown",
   "metadata": {},
   "source": [
    "# Gausian mixture model: Maximum A Posteriori Estimate using the Expectation-Maximization algorithm (MAP-EM)"
   ]
  },
  {
   "cell_type": "code",
   "execution_count": 1,
   "metadata": {},
   "outputs": [],
   "source": [
    "from em_examples import gmm_mapem\n",
    "from IPython.display import display\n",
    "%matplotlib inline"
   ]
  },
  {
   "cell_type": "markdown",
   "metadata": {},
   "source": [
    "## Purpose\n",
    "\n",
    "This notebook demonstrates through a mixture of two Gaussian distributions in one dimension (1D) the result of the MAP-EM algorithm. This algorithm fits a Gaussian mixture model on a set of samples plus a certain confidence in a prior reference mixture distribution.\n",
    "\n",
    "The first step is to choose a reference distribution. This is the first app.\n",
    "\n",
    "The second app demonstrate the resulting fitting of a Gaussian mixture model on a set of samples, with the previous reference distribution used as a prior weighted by the confidence $\\alpha$, $\\kappa$ and $\\nu$ on the proportions, means and covariances respectively."
   ]
  },
  {
   "cell_type": "markdown",
   "metadata": {},
   "source": [
    "## Choose your reference"
   ]
  },
  {
   "cell_type": "code",
   "execution_count": 2,
   "metadata": {},
   "outputs": [
    {
     "data": {
      "application/vnd.jupyter.widget-view+json": {
       "model_id": "8a66559e82f84affa5d9e6e311a5b754",
       "version_major": 2,
       "version_minor": 0
      },
      "text/plain": [
       "MyApp(children=(FloatSlider(value=-5.0, description='Mean Cluster 1', layout=Layout(width='50%'), max=10.0, mi…"
      ]
     },
     "metadata": {},
     "output_type": "display_data"
    }
   ],
   "source": [
    "app=gmm_mapem.GMM1D_define_reference_app()\n",
    "display(app)"
   ]
  },
  {
   "cell_type": "markdown",
   "metadata": {},
   "source": [
    "## Find the MAP-EM Distribution"
   ]
  },
  {
   "cell_type": "code",
   "execution_count": 3,
   "metadata": {
    "scrolled": false
   },
   "outputs": [
    {
     "data": {
      "application/vnd.jupyter.widget-view+json": {
       "model_id": "1bc01891018745aaafc12948f7caa12d",
       "version_major": 2,
       "version_minor": 0
      },
      "text/plain": [
       "MyApp(children=(FloatSlider(value=-5.0, description='Mean Cluster 1', layout=Layout(width='50%'), max=10.0, mi…"
      ]
     },
     "metadata": {},
     "output_type": "display_data"
    }
   ],
   "source": [
    "app_mapem = gmm_mapem.GMM1D_MAPEM_app(app.clf)\n",
    "display(app_mapem)"
   ]
  },
  {
   "cell_type": "code",
   "execution_count": null,
   "metadata": {},
   "outputs": [],
   "source": []
  }
 ],
 "metadata": {
  "kernelspec": {
   "display_name": "Python 3",
   "language": "python",
   "name": "python3"
  },
  "language_info": {
   "codemirror_mode": {
    "name": "ipython",
    "version": 3
   },
   "file_extension": ".py",
   "mimetype": "text/x-python",
   "name": "python",
   "nbconvert_exporter": "python",
   "pygments_lexer": "ipython3",
   "version": "3.6.6"
  }
 },
 "nbformat": 4,
 "nbformat_minor": 2
}
