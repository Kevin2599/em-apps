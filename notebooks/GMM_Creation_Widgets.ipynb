{
 "cells": [
  {
   "cell_type": "markdown",
   "metadata": {},
   "source": [
    "# Gaussian mixture model: Creation"
   ]
  },
  {
   "cell_type": "code",
   "execution_count": 1,
   "metadata": {},
   "outputs": [],
   "source": [
    "from em_examples import GMM_creation\n",
    "from IPython.display import display\n",
    "%matplotlib inline"
   ]
  },
  {
   "cell_type": "markdown",
   "metadata": {},
   "source": [
    "## Purpose\n",
    "\n",
    "In this notebook we propose two simple apps to generate a mixture of Gaussian distributions along with a certain number of samples from this mixture. The call is to build intuition on what a Gaussian distribution is along with a mixture of it."
   ]
  },
  {
   "cell_type": "markdown",
   "metadata": {},
   "source": [
    "## Slider app\n",
    "\n",
    "In this app, the user is limited to a mixture of two (or one if weight is set to 0) Gaussian distribution. The various sliders allow the user to change the mean, covariance and proportion of each component (or cluster).\n",
    "See in which cases the different components are distinguishable from each other."
   ]
  },
  {
   "cell_type": "markdown",
   "metadata": {},
   "source": [
    "**Mean Phys.Prop 1; Cluster 1**: Mean of the physical property 1 (x-axis) for the first cluster \n",
    "\n",
    "**Mean Phys.Prop 1; Cluster 2**: Mean of the physical property 1 (x-axis) for the second cluster\n",
    "\n",
    "**Mean Phys.Prop 2; Cluster 1**: Mean of the physical property 2 (y-axis) for the first cluster\n",
    "\n",
    "**Mean Phys.Prop 2; Cluster 2**: Mean of the physical property 2 (y-axis) for the second cluster\n",
    "\n",
    "**Std-Dev Phys.Prop 1; Cluster 1**: Standard-Deviation of the physical property 1 (x-axis) for the first cluster\n",
    "\n",
    "**Std-Dev Phys.Prop 1; Cluster 2**: Standard-Deviation of the physical property 1 (x-axis) for the second cluster\n",
    "\n",
    "**Std-Dev Phys.Prop 2; Cluster 1**: Standard-Deviation of the physical property 2 (y-axis) for the first cluster\n",
    "\n",
    "**Std-Dev Phys.Prop 2; Cluster 2**: Standard-Deviation of the physical property 2 (y-axis) for the second cluster\n",
    "\n",
    "**Rotation angle cluster 1**: Angle of rotation to define the covariance matrix for the first cluster\n",
    "\n",
    "**Rotation angle cluster 2**: Angle of rotation to define the covariance matrix for the second cluster\n",
    "\n",
    "**Weight cluster 1**: Proportion of the first cluster in % (the second cluster proportion is $1-w_1$)"
   ]
  },
  {
   "cell_type": "code",
   "execution_count": 2,
   "metadata": {},
   "outputs": [],
   "source": [
    "app = GMM_creation.GMM2D_Slider_app()"
   ]
  },
  {
   "cell_type": "code",
   "execution_count": 3,
   "metadata": {},
   "outputs": [
    {
     "data": {
      "application/vnd.jupyter.widget-view+json": {
       "model_id": "7332d6c8e377418ea633594a339c2412",
       "version_major": 2,
       "version_minor": 0
      },
      "text/plain": [
       "MyApp(children=(FloatSlider(value=-5.0, description='Mean Phys.Prop 1; Cluster 1', layout=Layout(width='50%'),…"
      ]
     },
     "metadata": {},
     "output_type": "display_data"
    }
   ],
   "source": [
    "display(app)"
   ]
  },
  {
   "cell_type": "markdown",
   "metadata": {},
   "source": [
    "## Text Boxes app\n",
    "\n",
    "In this app the user can choose the number of clusters up to 10.\n",
    "\n",
    "**Warning 1**: each text box entry is required to have the same length equal to the number of clusters.\n",
    "\n",
    "**Warning 2**: The update is manual. Click on \"Run Interact\" once you have set all the parameters."
   ]
  },
  {
   "cell_type": "code",
   "execution_count": 4,
   "metadata": {},
   "outputs": [
    {
     "data": {
      "application/vnd.jupyter.widget-view+json": {
       "model_id": "4a4235f0d84b4e47aef60e611dee5702",
       "version_major": 2,
       "version_minor": 0
      },
      "text/plain": [
       "interactive(children=(BoundedIntText(value=2, description='# of clusters:', max=10, min=1), Text(value='1.,0.'…"
      ]
     },
     "metadata": {},
     "output_type": "display_data"
    }
   ],
   "source": [
    "app = GMM_creation.GMM2D_TextBox_app()"
   ]
  },
  {
   "cell_type": "code",
   "execution_count": null,
   "metadata": {},
   "outputs": [],
   "source": []
  }
 ],
 "metadata": {
  "kernelspec": {
   "display_name": "Python 3",
   "language": "python",
   "name": "python3"
  },
  "language_info": {
   "codemirror_mode": {
    "name": "ipython",
    "version": 3
   },
   "file_extension": ".py",
   "mimetype": "text/x-python",
   "name": "python",
   "nbconvert_exporter": "python",
   "pygments_lexer": "ipython3",
   "version": "3.6.6"
  }
 },
 "nbformat": 4,
 "nbformat_minor": 2
}
